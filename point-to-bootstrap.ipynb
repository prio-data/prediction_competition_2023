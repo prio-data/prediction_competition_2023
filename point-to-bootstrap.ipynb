{
 "cells": [
  {
   "cell_type": "code",
   "execution_count": 5,
   "metadata": {},
   "outputs": [
    {
     "name": "stdout",
     "output_type": "stream",
     "text": [
      "['/Users/noorainkazmi/Dropbox (ViEWS)/competition_data/actuals/cm/test_window_2018/cm_actuals_2018.parquet', '/Users/noorainkazmi/Dropbox (ViEWS)/competition_data/actuals/cm/test_window_2020/cm_actuals_2020.parquet', '/Users/noorainkazmi/Dropbox (ViEWS)/competition_data/actuals/cm/test_window_2021/cm_actuals_2021.parquet', '/Users/noorainkazmi/Dropbox (ViEWS)/competition_data/actuals/cm/test_window_2019/cm_actuals_2019.parquet']\n"
     ]
    }
   ],
   "source": [
    "import glob\n",
    "\n",
    "# Use the glob function to match and retrieve the file paths\n",
    "file_paths = glob.glob('/Users/noorainkazmi/Dropbox (ViEWS)/competition_data/actuals/cm/**/*.parquet')\n",
    "\n",
    "# Now, file_paths contains a list of file paths matching the pattern\n",
    "print(file_paths)"
   ]
  },
  {
   "cell_type": "code",
   "execution_count": 2,
   "metadata": {},
   "outputs": [
    {
     "data": {
      "text/plain": [
       "[]"
      ]
     },
     "execution_count": 2,
     "metadata": {},
     "output_type": "execute_result"
    }
   ],
   "source": []
  },
  {
   "cell_type": "code",
   "execution_count": null,
   "metadata": {},
   "outputs": [],
   "source": []
  }
 ],
 "metadata": {
  "kernelspec": {
   "display_name": "prediction_c",
   "language": "python",
   "name": "python3"
  },
  "language_info": {
   "codemirror_mode": {
    "name": "ipython",
    "version": 3
   },
   "file_extension": ".py",
   "mimetype": "text/x-python",
   "name": "python",
   "nbconvert_exporter": "python",
   "pygments_lexer": "ipython3",
   "version": "3.10.12"
  }
 },
 "nbformat": 4,
 "nbformat_minor": 2
}
